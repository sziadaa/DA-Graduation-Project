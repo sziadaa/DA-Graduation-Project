{
 "cells": [
  {
   "cell_type": "markdown",
   "metadata": {},
   "source": [
    "# Import Needed Libraires "
   ]
  },
  {
   "cell_type": "code",
   "execution_count": 1,
   "metadata": {},
   "outputs": [],
   "source": [
    "import pandas as pd\n",
    "import numpy as np "
   ]
  },
  {
   "cell_type": "markdown",
   "metadata": {},
   "source": [
    "# Identify Dataframe"
   ]
  },
  {
   "cell_type": "code",
   "execution_count": 6,
   "metadata": {},
   "outputs": [],
   "source": [
    "Customers=pd.read_excel('C:/Users/Cashi/Desktop/salma/Final Project/E-Commerce Project/E-commerce orders.xlsx',sheet_name= 'Customers', skiprows=[0,1,3,4,8])\n",
    "Categories=pd.read_excel('C:/Users/Cashi/Desktop/salma/Final Project/E-Commerce Project/E-commerce orders.xlsx',sheet_name= 'Categories', skiprows=[1,2])\n",
    "Employees=pd.read_excel('C:/Users/Cashi/Desktop/salma/Final Project/E-Commerce Project/E-commerce orders.xlsx',sheet_name= 'Employees', skiprows=[2])\n",
    "OrdersDetails=pd.read_excel('C:/Users/Cashi/Desktop/salma/Final Project/E-Commerce Project/E-commerce orders.xlsx',sheet_name= 'OrdersDetails')\n",
    "Orders=pd.read_excel('C:/Users/Cashi/Desktop/salma/Final Project/E-Commerce Project/E-commerce orders.xlsx',sheet_name= 'Orders', skiprows=[831,832,833,834,835,836,837])\n",
    "Product=pd.read_excel('C:/Users/Cashi/Desktop/salma/Final Project/E-Commerce Project/E-commerce orders.xlsx',sheet_name= 'Product', skiprows=[2,3])\n",
    "Shippers=pd.read_excel('C:/Users/Cashi/Desktop/salma/Final Project/E-Commerce Project/E-commerce orders.xlsx',sheet_name= 'Shippers')\n",
    "Suppliers=pd.read_excel('C:/Users/Cashi/Desktop/salma/Final Project/E-Commerce Project/E-commerce orders.xlsx',sheet_name= 'Suppliers')"
   ]
  },
  {
   "cell_type": "markdown",
   "metadata": {},
   "source": [
    "# Exploring Data"
   ]
  },
  {
   "cell_type": "code",
   "execution_count": 7,
   "metadata": {},
   "outputs": [
    {
     "name": "stdout",
     "output_type": "stream",
     "text": [
      "Initial Specs on data: \n",
      "\n",
      "Data Shape:  (91, 12)\n",
      "\n",
      "---------------------------------------------\n",
      "\n",
      "Category Columns ( 11 ) : \n",
      " ['CustomerID', 'CompanyName', 'ContactName', 'ContactTitle', 'Address', 'City', 'Region', 'PostalCode', 'Country', 'Phone', 'Fax']\n",
      "\n",
      "---------------------------------------------\n",
      "\n",
      "Numeric Columns ( 1 ) : \n",
      " ['null']\n",
      "\n",
      "---------------------------------------------\n"
     ]
    }
   ],
   "source": [
    "def data_Specs(Customers):\n",
    "    print(\"Initial Specs on data: \\n\")\n",
    "    print(\"Data Shape: \", Customers.shape)\n",
    "    print(\"\\n---------------------------------------------\\n\")\n",
    "    \n",
    "    s = (Customers.dtypes == 'object')\n",
    "    Cat_cols = list(s[s].index) \n",
    "    print(\"Category Columns (\",len(Cat_cols),\") : \\n\",Cat_cols)\n",
    "    print(\"\\n---------------------------------------------\\n\")   \n",
    "    \n",
    "    s = (Customers.dtypes != 'object')\n",
    "    Nums_cols = list(s[s].index) \n",
    "    print(\"Numeric Columns (\",len(Nums_cols),\") : \\n\",Nums_cols)\n",
    "    print(\"\\n---------------------------------------------\")   \n",
    "data_Specs(Customers)\n"
   ]
  },
  {
   "cell_type": "code",
   "execution_count": 8,
   "metadata": {},
   "outputs": [
    {
     "name": "stdout",
     "output_type": "stream",
     "text": [
      "<class 'pandas.core.frame.DataFrame'>\n",
      "RangeIndex: 91 entries, 0 to 90\n",
      "Data columns (total 12 columns):\n",
      " #   Column        Non-Null Count  Dtype  \n",
      "---  ------        --------------  -----  \n",
      " 0   CustomerID    91 non-null     object \n",
      " 1   null          0 non-null      float64\n",
      " 2   CompanyName   90 non-null     object \n",
      " 3   ContactName   91 non-null     object \n",
      " 4   ContactTitle  91 non-null     object \n",
      " 5   Address       91 non-null     object \n",
      " 6   City          91 non-null     object \n",
      " 7   Region        31 non-null     object \n",
      " 8   PostalCode    90 non-null     object \n",
      " 9   Country       91 non-null     object \n",
      " 10  Phone         91 non-null     object \n",
      " 11  Fax           69 non-null     object \n",
      "dtypes: float64(1), object(11)\n",
      "memory usage: 8.7+ KB\n"
     ]
    }
   ],
   "source": [
    "Customers.info()"
   ]
  },
  {
   "cell_type": "code",
   "execution_count": 9,
   "metadata": {},
   "outputs": [
    {
     "data": {
      "text/html": [
       "<div>\n",
       "<style scoped>\n",
       "    .dataframe tbody tr th:only-of-type {\n",
       "        vertical-align: middle;\n",
       "    }\n",
       "\n",
       "    .dataframe tbody tr th {\n",
       "        vertical-align: top;\n",
       "    }\n",
       "\n",
       "    .dataframe thead th {\n",
       "        text-align: right;\n",
       "    }\n",
       "</style>\n",
       "<table border=\"1\" class=\"dataframe\">\n",
       "  <thead>\n",
       "    <tr style=\"text-align: right;\">\n",
       "      <th></th>\n",
       "      <th>CustomerID</th>\n",
       "      <th>null</th>\n",
       "      <th>CompanyName</th>\n",
       "      <th>ContactName</th>\n",
       "      <th>ContactTitle</th>\n",
       "      <th>Address</th>\n",
       "      <th>City</th>\n",
       "      <th>Region</th>\n",
       "      <th>PostalCode</th>\n",
       "      <th>Country</th>\n",
       "      <th>Phone</th>\n",
       "      <th>Fax</th>\n",
       "    </tr>\n",
       "  </thead>\n",
       "  <tbody>\n",
       "    <tr>\n",
       "      <th>0</th>\n",
       "      <td>ALFKI</td>\n",
       "      <td>NaN</td>\n",
       "      <td>Alfreds Futterkiste</td>\n",
       "      <td>Maria Anders</td>\n",
       "      <td>Sales Representative</td>\n",
       "      <td>Obere Str. 57</td>\n",
       "      <td>Berlin</td>\n",
       "      <td>NaN</td>\n",
       "      <td>12209</td>\n",
       "      <td>Germany</td>\n",
       "      <td>030-0074321</td>\n",
       "      <td>030-0076545</td>\n",
       "    </tr>\n",
       "    <tr>\n",
       "      <th>1</th>\n",
       "      <td>ANATR</td>\n",
       "      <td>NaN</td>\n",
       "      <td>Ana Trujillo Emparedados y helados</td>\n",
       "      <td>Ana Trujillo</td>\n",
       "      <td>Owner</td>\n",
       "      <td>Avda. de la Constitución 2222</td>\n",
       "      <td>México D.F.</td>\n",
       "      <td>NaN</td>\n",
       "      <td>05021</td>\n",
       "      <td>Mexico</td>\n",
       "      <td>(5) 555-4729</td>\n",
       "      <td>(5) 555-3745</td>\n",
       "    </tr>\n",
       "    <tr>\n",
       "      <th>2</th>\n",
       "      <td>ANTON</td>\n",
       "      <td>NaN</td>\n",
       "      <td>Antonio Moreno Taquería</td>\n",
       "      <td>Antonio Moreno</td>\n",
       "      <td>Owner</td>\n",
       "      <td>Mataderos  2312</td>\n",
       "      <td>México D.F.</td>\n",
       "      <td>NaN</td>\n",
       "      <td>05023</td>\n",
       "      <td>Mexico</td>\n",
       "      <td>(5) 555-3932</td>\n",
       "      <td>NaN</td>\n",
       "    </tr>\n",
       "    <tr>\n",
       "      <th>3</th>\n",
       "      <td>AROUT</td>\n",
       "      <td>NaN</td>\n",
       "      <td>Around the Horn</td>\n",
       "      <td>Thomas Hardy</td>\n",
       "      <td>Sales Representative</td>\n",
       "      <td>120 Hanover Sq.</td>\n",
       "      <td>London</td>\n",
       "      <td>NaN</td>\n",
       "      <td>WA1 1DP</td>\n",
       "      <td>UK</td>\n",
       "      <td>(171) 555-7788</td>\n",
       "      <td>(171) 555-6750</td>\n",
       "    </tr>\n",
       "    <tr>\n",
       "      <th>4</th>\n",
       "      <td>BERGS</td>\n",
       "      <td>NaN</td>\n",
       "      <td>Berglunds snabbköp</td>\n",
       "      <td>Christina Berglund</td>\n",
       "      <td>Order Administrator</td>\n",
       "      <td>Berguvsvägen  8</td>\n",
       "      <td>Luleå</td>\n",
       "      <td>NaN</td>\n",
       "      <td>S-958 22</td>\n",
       "      <td>Sweden</td>\n",
       "      <td>0921-12 34 65</td>\n",
       "      <td>0921-12 34 67</td>\n",
       "    </tr>\n",
       "  </tbody>\n",
       "</table>\n",
       "</div>"
      ],
      "text/plain": [
       "  CustomerID  null                         CompanyName         ContactName  \\\n",
       "0      ALFKI   NaN                 Alfreds Futterkiste        Maria Anders   \n",
       "1      ANATR   NaN  Ana Trujillo Emparedados y helados        Ana Trujillo   \n",
       "2      ANTON   NaN             Antonio Moreno Taquería      Antonio Moreno   \n",
       "3      AROUT   NaN                     Around the Horn        Thomas Hardy   \n",
       "4      BERGS   NaN                  Berglunds snabbköp  Christina Berglund   \n",
       "\n",
       "           ContactTitle                        Address         City Region  \\\n",
       "0  Sales Representative                  Obere Str. 57       Berlin    NaN   \n",
       "1                 Owner  Avda. de la Constitución 2222  México D.F.    NaN   \n",
       "2                 Owner                Mataderos  2312  México D.F.    NaN   \n",
       "3  Sales Representative                120 Hanover Sq.       London    NaN   \n",
       "4   Order Administrator                Berguvsvägen  8        Luleå    NaN   \n",
       "\n",
       "  PostalCode  Country           Phone             Fax  \n",
       "0      12209  Germany     030-0074321     030-0076545  \n",
       "1      05021   Mexico    (5) 555-4729    (5) 555-3745  \n",
       "2      05023   Mexico    (5) 555-3932             NaN  \n",
       "3    WA1 1DP       UK  (171) 555-7788  (171) 555-6750  \n",
       "4   S-958 22   Sweden   0921-12 34 65   0921-12 34 67  "
      ]
     },
     "execution_count": 9,
     "metadata": {},
     "output_type": "execute_result"
    }
   ],
   "source": [
    "Customers.head()"
   ]
  },
  {
   "cell_type": "markdown",
   "metadata": {},
   "source": [
    "# Rename columns"
   ]
  },
  {
   "cell_type": "code",
   "execution_count": 10,
   "metadata": {},
   "outputs": [],
   "source": [
    "Customers.rename(columns={'CompanyName' : 'CustomerCompanyName'} , inplace=True)\n",
    "Customers.rename(columns={'Country' : 'CustomerCountry'} , inplace=True)\n",
    "Customers.rename(columns={'City' : 'CustomerCity'} , inplace=True)"
   ]
  },
  {
   "cell_type": "markdown",
   "metadata": {},
   "source": [
    "# Check for missing values"
   ]
  },
  {
   "cell_type": "code",
   "execution_count": 11,
   "metadata": {},
   "outputs": [
    {
     "name": "stdout",
     "output_type": "stream",
     "text": [
      "Null Ratio per Column:\n"
     ]
    },
    {
     "data": {
      "text/plain": [
       "CustomerID               0.000000\n",
       "null                   100.000000\n",
       "CustomerCompanyName      1.098901\n",
       "ContactName              0.000000\n",
       "ContactTitle             0.000000\n",
       "Address                  0.000000\n",
       "CustomerCity             0.000000\n",
       "Region                  65.934066\n",
       "PostalCode               1.098901\n",
       "CustomerCountry          0.000000\n",
       "Phone                    0.000000\n",
       "Fax                     24.175824\n",
       "dtype: float64"
      ]
     },
     "execution_count": 11,
     "metadata": {},
     "output_type": "execute_result"
    }
   ],
   "source": [
    "print(\"Null Ratio per Column:\")\n",
    "Customers.isnull().sum()/len(Customers)*100"
   ]
  },
  {
   "cell_type": "markdown",
   "metadata": {},
   "source": [
    "# Handle missing values\n"
   ]
  },
  {
   "cell_type": "code",
   "execution_count": 12,
   "metadata": {},
   "outputs": [],
   "source": [
    "Customers = Customers.drop(columns=['null'])  \n",
    "Customers = Customers.drop(columns=['Region'])"
   ]
  },
  {
   "cell_type": "code",
   "execution_count": 14,
   "metadata": {},
   "outputs": [
    {
     "name": "stderr",
     "output_type": "stream",
     "text": [
      "C:\\Users\\Cashi\\AppData\\Local\\Temp\\ipykernel_24348\\2988228682.py:1: FutureWarning: A value is trying to be set on a copy of a DataFrame or Series through chained assignment using an inplace method.\n",
      "The behavior will change in pandas 3.0. This inplace method will never work because the intermediate object on which we are setting values always behaves as a copy.\n",
      "\n",
      "For example, when doing 'df[col].method(value, inplace=True)', try using 'df.method({col: value}, inplace=True)' or df[col] = df[col].method(value) instead, to perform the operation inplace on the original object.\n",
      "\n",
      "\n",
      "  Customers['CustomerCompanyName'].fillna('Centro', inplace=True)\n"
     ]
    }
   ],
   "source": [
    "Customers['CustomerCompanyName'].fillna('Centro', inplace=True)"
   ]
  },
  {
   "cell_type": "code",
   "execution_count": 15,
   "metadata": {},
   "outputs": [],
   "source": [
    "Customers['CustomerCompanyName'].replace( 1, 'Centro2', inplace=True)"
   ]
  },
  {
   "cell_type": "markdown",
   "metadata": {},
   "source": [
    "# cleaning of Categories sheet"
   ]
  },
  {
   "cell_type": "code",
   "execution_count": 16,
   "metadata": {},
   "outputs": [
    {
     "name": "stdout",
     "output_type": "stream",
     "text": [
      "Initial Specs on data: \n",
      "\n",
      "Data Shape:  (8, 4)\n",
      "\n",
      "---------------------------------------------\n",
      "\n",
      "Category Columns ( 2 ) : \n",
      " ['CategoryName', 'Description']\n",
      "\n",
      "---------------------------------------------\n",
      "\n",
      "Numeric Columns ( 2 ) : \n",
      " ['CategoryID', 'Picture']\n",
      "\n",
      "---------------------------------------------\n"
     ]
    }
   ],
   "source": [
    "def data_Specs(Categories):\n",
    "    print(\"Initial Specs on data: \\n\")\n",
    "    print(\"Data Shape: \", Categories.shape)\n",
    "    print(\"\\n---------------------------------------------\\n\")\n",
    "    \n",
    "    s = (Categories.dtypes == 'object')\n",
    "    Cat_cols = list(s[s].index) \n",
    "    print(\"Category Columns (\",len(Cat_cols),\") : \\n\",Cat_cols)\n",
    "    print(\"\\n---------------------------------------------\\n\")   \n",
    "    \n",
    "    s = (Categories.dtypes != 'object')\n",
    "    Nums_cols = list(s[s].index) \n",
    "    print(\"Numeric Columns (\",len(Nums_cols),\") : \\n\",Nums_cols)\n",
    "    print(\"\\n---------------------------------------------\")   \n",
    "data_Specs(Categories)\n"
   ]
  },
  {
   "cell_type": "code",
   "execution_count": 17,
   "metadata": {},
   "outputs": [
    {
     "name": "stdout",
     "output_type": "stream",
     "text": [
      "<class 'pandas.core.frame.DataFrame'>\n",
      "RangeIndex: 8 entries, 0 to 7\n",
      "Data columns (total 4 columns):\n",
      " #   Column        Non-Null Count  Dtype  \n",
      "---  ------        --------------  -----  \n",
      " 0   CategoryID    8 non-null      int64  \n",
      " 1   CategoryName  8 non-null      object \n",
      " 2   Description   8 non-null      object \n",
      " 3   Picture       0 non-null      float64\n",
      "dtypes: float64(1), int64(1), object(2)\n",
      "memory usage: 388.0+ bytes\n"
     ]
    }
   ],
   "source": [
    "Categories.info()"
   ]
  },
  {
   "cell_type": "code",
   "execution_count": 18,
   "metadata": {},
   "outputs": [
    {
     "data": {
      "text/html": [
       "<div>\n",
       "<style scoped>\n",
       "    .dataframe tbody tr th:only-of-type {\n",
       "        vertical-align: middle;\n",
       "    }\n",
       "\n",
       "    .dataframe tbody tr th {\n",
       "        vertical-align: top;\n",
       "    }\n",
       "\n",
       "    .dataframe thead th {\n",
       "        text-align: right;\n",
       "    }\n",
       "</style>\n",
       "<table border=\"1\" class=\"dataframe\">\n",
       "  <thead>\n",
       "    <tr style=\"text-align: right;\">\n",
       "      <th></th>\n",
       "      <th>CategoryID</th>\n",
       "      <th>CategoryName</th>\n",
       "      <th>Description</th>\n",
       "      <th>Picture</th>\n",
       "    </tr>\n",
       "  </thead>\n",
       "  <tbody>\n",
       "    <tr>\n",
       "      <th>0</th>\n",
       "      <td>1</td>\n",
       "      <td>Beverages</td>\n",
       "      <td>Soft drinks, coffees, teas, beers, and ales</td>\n",
       "      <td>NaN</td>\n",
       "    </tr>\n",
       "    <tr>\n",
       "      <th>1</th>\n",
       "      <td>2</td>\n",
       "      <td>Condiments</td>\n",
       "      <td>Sweet and savory sauces, relishes, spreads, an...</td>\n",
       "      <td>NaN</td>\n",
       "    </tr>\n",
       "    <tr>\n",
       "      <th>2</th>\n",
       "      <td>3</td>\n",
       "      <td>Confections</td>\n",
       "      <td>Desserts, candies, and sweet breads</td>\n",
       "      <td>NaN</td>\n",
       "    </tr>\n",
       "    <tr>\n",
       "      <th>3</th>\n",
       "      <td>4</td>\n",
       "      <td>Dairy Products</td>\n",
       "      <td>Cheeses</td>\n",
       "      <td>NaN</td>\n",
       "    </tr>\n",
       "    <tr>\n",
       "      <th>4</th>\n",
       "      <td>5</td>\n",
       "      <td>Grains/Cereals</td>\n",
       "      <td>Breads, crackers, pasta, and cereal</td>\n",
       "      <td>NaN</td>\n",
       "    </tr>\n",
       "  </tbody>\n",
       "</table>\n",
       "</div>"
      ],
      "text/plain": [
       "   CategoryID    CategoryName  \\\n",
       "0           1       Beverages   \n",
       "1           2      Condiments   \n",
       "2           3     Confections   \n",
       "3           4  Dairy Products   \n",
       "4           5  Grains/Cereals   \n",
       "\n",
       "                                         Description  Picture  \n",
       "0        Soft drinks, coffees, teas, beers, and ales      NaN  \n",
       "1  Sweet and savory sauces, relishes, spreads, an...      NaN  \n",
       "2                Desserts, candies, and sweet breads      NaN  \n",
       "3                                            Cheeses      NaN  \n",
       "4                Breads, crackers, pasta, and cereal      NaN  "
      ]
     },
     "execution_count": 18,
     "metadata": {},
     "output_type": "execute_result"
    }
   ],
   "source": [
    "Categories.head()"
   ]
  },
  {
   "cell_type": "code",
   "execution_count": 19,
   "metadata": {},
   "outputs": [
    {
     "name": "stdout",
     "output_type": "stream",
     "text": [
      "Null Ratio per Column:\n"
     ]
    },
    {
     "data": {
      "text/plain": [
       "CategoryID        0.0\n",
       "CategoryName      0.0\n",
       "Description       0.0\n",
       "Picture         100.0\n",
       "dtype: float64"
      ]
     },
     "execution_count": 19,
     "metadata": {},
     "output_type": "execute_result"
    }
   ],
   "source": [
    "print(\"Null Ratio per Column:\")\n",
    "Categories.isnull().sum()/len(Categories)*100"
   ]
  },
  {
   "cell_type": "code",
   "execution_count": 20,
   "metadata": {},
   "outputs": [],
   "source": [
    "Categories = Categories.drop(columns=['Picture'])  "
   ]
  },
  {
   "cell_type": "markdown",
   "metadata": {},
   "source": [
    "# cleaning of Employees sheet"
   ]
  },
  {
   "cell_type": "code",
   "execution_count": 21,
   "metadata": {},
   "outputs": [
    {
     "name": "stdout",
     "output_type": "stream",
     "text": [
      "Initial Specs on data: \n",
      "\n",
      "Data Shape:  (9, 17)\n",
      "\n",
      "---------------------------------------------\n",
      "\n",
      "Category Columns ( 12 ) : \n",
      " ['LastName', 'FirstName', 'Title', 'TitleOfCourtesy', 'Address', 'City', 'Region', 'PostalCode', 'Country', 'HomePhone', 'Photo', 'Notes']\n",
      "\n",
      "---------------------------------------------\n",
      "\n",
      "Numeric Columns ( 5 ) : \n",
      " ['EmployeeID', 'BirthDate', 'HireDate', 'Extension', 'ReportsTo']\n",
      "\n",
      "---------------------------------------------\n"
     ]
    }
   ],
   "source": [
    "def data_Specs(Employees):\n",
    "    print(\"Initial Specs on data: \\n\")\n",
    "    print(\"Data Shape: \", Employees.shape)\n",
    "    print(\"\\n---------------------------------------------\\n\")\n",
    "    \n",
    "    s = (Employees.dtypes == 'object')\n",
    "    Cat_cols = list(s[s].index) \n",
    "    print(\"Category Columns (\",len(Cat_cols),\") : \\n\",Cat_cols)\n",
    "    print(\"\\n---------------------------------------------\\n\")   \n",
    "    \n",
    "    s = (Employees.dtypes != 'object')\n",
    "    Nums_cols = list(s[s].index) \n",
    "    print(\"Numeric Columns (\",len(Nums_cols),\") : \\n\",Nums_cols)\n",
    "    print(\"\\n---------------------------------------------\")   \n",
    "data_Specs(Employees)"
   ]
  },
  {
   "cell_type": "code",
   "execution_count": 22,
   "metadata": {},
   "outputs": [
    {
     "name": "stdout",
     "output_type": "stream",
     "text": [
      "<class 'pandas.core.frame.DataFrame'>\n",
      "RangeIndex: 9 entries, 0 to 8\n",
      "Data columns (total 17 columns):\n",
      " #   Column           Non-Null Count  Dtype  \n",
      "---  ------           --------------  -----  \n",
      " 0   EmployeeID       9 non-null      int64  \n",
      " 1   LastName         8 non-null      object \n",
      " 2   FirstName        9 non-null      object \n",
      " 3   Title            8 non-null      object \n",
      " 4   TitleOfCourtesy  8 non-null      object \n",
      " 5   BirthDate        9 non-null      int64  \n",
      " 6   HireDate         9 non-null      int64  \n",
      " 7   Address          9 non-null      object \n",
      " 8   City             9 non-null      object \n",
      " 9   Region           5 non-null      object \n",
      " 10  PostalCode       9 non-null      object \n",
      " 11  Country          9 non-null      object \n",
      " 12  HomePhone        9 non-null      object \n",
      " 13  Extension        9 non-null      int64  \n",
      " 14  Photo            9 non-null      object \n",
      " 15  Notes            9 non-null      object \n",
      " 16  ReportsTo        8 non-null      float64\n",
      "dtypes: float64(1), int64(4), object(12)\n",
      "memory usage: 1.3+ KB\n"
     ]
    }
   ],
   "source": [
    "Employees.info()"
   ]
  },
  {
   "cell_type": "code",
   "execution_count": 23,
   "metadata": {},
   "outputs": [
    {
     "data": {
      "text/html": [
       "<div>\n",
       "<style scoped>\n",
       "    .dataframe tbody tr th:only-of-type {\n",
       "        vertical-align: middle;\n",
       "    }\n",
       "\n",
       "    .dataframe tbody tr th {\n",
       "        vertical-align: top;\n",
       "    }\n",
       "\n",
       "    .dataframe thead th {\n",
       "        text-align: right;\n",
       "    }\n",
       "</style>\n",
       "<table border=\"1\" class=\"dataframe\">\n",
       "  <thead>\n",
       "    <tr style=\"text-align: right;\">\n",
       "      <th></th>\n",
       "      <th>EmployeeID</th>\n",
       "      <th>LastName</th>\n",
       "      <th>FirstName</th>\n",
       "      <th>Title</th>\n",
       "      <th>TitleOfCourtesy</th>\n",
       "      <th>BirthDate</th>\n",
       "      <th>HireDate</th>\n",
       "      <th>Address</th>\n",
       "      <th>City</th>\n",
       "      <th>Region</th>\n",
       "      <th>PostalCode</th>\n",
       "      <th>Country</th>\n",
       "      <th>HomePhone</th>\n",
       "      <th>Extension</th>\n",
       "      <th>Photo</th>\n",
       "      <th>Notes</th>\n",
       "      <th>ReportsTo</th>\n",
       "    </tr>\n",
       "  </thead>\n",
       "  <tbody>\n",
       "    <tr>\n",
       "      <th>0</th>\n",
       "      <td>1</td>\n",
       "      <td>NaN</td>\n",
       "      <td>Nancy</td>\n",
       "      <td>Sales Representative</td>\n",
       "      <td>Ms.</td>\n",
       "      <td>25180</td>\n",
       "      <td>33725</td>\n",
       "      <td>507 - 20th Ave. E.\\r\\nApt. 2A</td>\n",
       "      <td>Seattle</td>\n",
       "      <td>WA</td>\n",
       "      <td>98122</td>\n",
       "      <td>USA</td>\n",
       "      <td>(206) 555-9857</td>\n",
       "      <td>5467</td>\n",
       "      <td>EmpID1.bmp</td>\n",
       "      <td>Education includes a BA in psychology from Col...</td>\n",
       "      <td>2.0</td>\n",
       "    </tr>\n",
       "    <tr>\n",
       "      <th>1</th>\n",
       "      <td>2</td>\n",
       "      <td>Fuller</td>\n",
       "      <td>Andrew</td>\n",
       "      <td>Vice President, Sales</td>\n",
       "      <td>Dr.</td>\n",
       "      <td>19043</td>\n",
       "      <td>33830</td>\n",
       "      <td>908 W. Capital Way</td>\n",
       "      <td>Tacoma</td>\n",
       "      <td>WA</td>\n",
       "      <td>98401</td>\n",
       "      <td>USA</td>\n",
       "      <td>(206) 555-9482</td>\n",
       "      <td>3457</td>\n",
       "      <td>EmpID2.bmp</td>\n",
       "      <td>Andrew received his BTS commercial and a Ph.D....</td>\n",
       "      <td>NaN</td>\n",
       "    </tr>\n",
       "    <tr>\n",
       "      <th>2</th>\n",
       "      <td>3</td>\n",
       "      <td>Leverling</td>\n",
       "      <td>Janet</td>\n",
       "      <td>NaN</td>\n",
       "      <td>NaN</td>\n",
       "      <td>23253</td>\n",
       "      <td>33695</td>\n",
       "      <td>722 Moss Bay Blvd.</td>\n",
       "      <td>Kirkland</td>\n",
       "      <td>WA</td>\n",
       "      <td>98033</td>\n",
       "      <td>USA</td>\n",
       "      <td>(206) 555-3412</td>\n",
       "      <td>3355</td>\n",
       "      <td>EmpID3.bmp</td>\n",
       "      <td>Janet has a BS degree in chemistry from Boston...</td>\n",
       "      <td>2.0</td>\n",
       "    </tr>\n",
       "    <tr>\n",
       "      <th>3</th>\n",
       "      <td>4</td>\n",
       "      <td>Peacock</td>\n",
       "      <td>Margaret</td>\n",
       "      <td>Sales Representative</td>\n",
       "      <td>Mrs.</td>\n",
       "      <td>21447</td>\n",
       "      <td>34092</td>\n",
       "      <td>4110 Old Redmond Rd.</td>\n",
       "      <td>Redmond</td>\n",
       "      <td>WA</td>\n",
       "      <td>98052</td>\n",
       "      <td>USA</td>\n",
       "      <td>(206) 555-8122</td>\n",
       "      <td>5176</td>\n",
       "      <td>EmpID4.bmp</td>\n",
       "      <td>Margaret holds a BA in English literature from...</td>\n",
       "      <td>2.0</td>\n",
       "    </tr>\n",
       "    <tr>\n",
       "      <th>4</th>\n",
       "      <td>5</td>\n",
       "      <td>Buchanan</td>\n",
       "      <td>Steven</td>\n",
       "      <td>Sales Manager</td>\n",
       "      <td>Mr.</td>\n",
       "      <td>20152</td>\n",
       "      <td>34259</td>\n",
       "      <td>14 Garrett Hill</td>\n",
       "      <td>London</td>\n",
       "      <td>NaN</td>\n",
       "      <td>SW1 8JR</td>\n",
       "      <td>UK</td>\n",
       "      <td>(71) 555-4848</td>\n",
       "      <td>3453</td>\n",
       "      <td>EmpID5.bmp</td>\n",
       "      <td>Steven Buchanan graduated from St. Andrews Uni...</td>\n",
       "      <td>2.0</td>\n",
       "    </tr>\n",
       "  </tbody>\n",
       "</table>\n",
       "</div>"
      ],
      "text/plain": [
       "   EmployeeID   LastName FirstName                  Title TitleOfCourtesy  \\\n",
       "0           1        NaN     Nancy   Sales Representative             Ms.   \n",
       "1           2     Fuller    Andrew  Vice President, Sales             Dr.   \n",
       "2           3  Leverling     Janet                    NaN             NaN   \n",
       "3           4    Peacock  Margaret   Sales Representative            Mrs.   \n",
       "4           5   Buchanan    Steven          Sales Manager             Mr.   \n",
       "\n",
       "   BirthDate  HireDate                        Address      City Region  \\\n",
       "0      25180     33725  507 - 20th Ave. E.\\r\\nApt. 2A   Seattle     WA   \n",
       "1      19043     33830             908 W. Capital Way    Tacoma     WA   \n",
       "2      23253     33695             722 Moss Bay Blvd.  Kirkland     WA   \n",
       "3      21447     34092           4110 Old Redmond Rd.   Redmond     WA   \n",
       "4      20152     34259                14 Garrett Hill    London    NaN   \n",
       "\n",
       "  PostalCode Country       HomePhone  Extension       Photo  \\\n",
       "0      98122     USA  (206) 555-9857       5467  EmpID1.bmp   \n",
       "1      98401     USA  (206) 555-9482       3457  EmpID2.bmp   \n",
       "2      98033     USA  (206) 555-3412       3355  EmpID3.bmp   \n",
       "3      98052     USA  (206) 555-8122       5176  EmpID4.bmp   \n",
       "4    SW1 8JR      UK   (71) 555-4848       3453  EmpID5.bmp   \n",
       "\n",
       "                                               Notes  ReportsTo  \n",
       "0  Education includes a BA in psychology from Col...        2.0  \n",
       "1  Andrew received his BTS commercial and a Ph.D....        NaN  \n",
       "2  Janet has a BS degree in chemistry from Boston...        2.0  \n",
       "3  Margaret holds a BA in English literature from...        2.0  \n",
       "4  Steven Buchanan graduated from St. Andrews Uni...        2.0  "
      ]
     },
     "execution_count": 23,
     "metadata": {},
     "output_type": "execute_result"
    }
   ],
   "source": [
    "Employees.head()"
   ]
  },
  {
   "cell_type": "code",
   "execution_count": 24,
   "metadata": {},
   "outputs": [],
   "source": [
    "Employees.rename(columns={'Country' : 'EmployeesCountry'} , inplace=True)\n",
    "Employees.rename(columns={'City' : 'EmployeesCity'} , inplace=True)"
   ]
  },
  {
   "cell_type": "code",
   "execution_count": 25,
   "metadata": {},
   "outputs": [
    {
     "name": "stdout",
     "output_type": "stream",
     "text": [
      "Null Ratio per Column:\n"
     ]
    },
    {
     "data": {
      "text/plain": [
       "EmployeeID           0.000000\n",
       "LastName            11.111111\n",
       "FirstName            0.000000\n",
       "Title               11.111111\n",
       "TitleOfCourtesy     11.111111\n",
       "BirthDate            0.000000\n",
       "HireDate             0.000000\n",
       "Address              0.000000\n",
       "EmployeesCity        0.000000\n",
       "Region              44.444444\n",
       "PostalCode           0.000000\n",
       "EmployeesCountry     0.000000\n",
       "HomePhone            0.000000\n",
       "Extension            0.000000\n",
       "Photo                0.000000\n",
       "Notes                0.000000\n",
       "ReportsTo           11.111111\n",
       "dtype: float64"
      ]
     },
     "execution_count": 25,
     "metadata": {},
     "output_type": "execute_result"
    }
   ],
   "source": [
    "print(\"Null Ratio per Column:\")\n",
    "Employees.isnull().sum()/len(Employees)*100"
   ]
  },
  {
   "cell_type": "code",
   "execution_count": 26,
   "metadata": {},
   "outputs": [],
   "source": [
    "def convert_to_date(value):\n",
    "    try:\n",
    "        if isinstance(value, (int, float)):\n",
    "            return pd.to_datetime('1899-12-30') + pd.to_timedelta(value, 'D')\n",
    "        else:\n",
    "            return pd.to_datetime(value, format='%Y-%m-%d', errors='coerce')\n",
    "    except:\n",
    "        return pd.NaT "
   ]
  },
  {
   "cell_type": "code",
   "execution_count": 27,
   "metadata": {},
   "outputs": [],
   "source": [
    "Employees['BirthDate'] = Employees['BirthDate'].apply(convert_to_date)\n",
    "Employees['HireDate'] = Employees['HireDate'].apply(convert_to_date)"
   ]
  },
  {
   "cell_type": "code",
   "execution_count": 28,
   "metadata": {},
   "outputs": [
    {
     "name": "stderr",
     "output_type": "stream",
     "text": [
      "C:\\Users\\Cashi\\AppData\\Local\\Temp\\ipykernel_24348\\1953485002.py:1: FutureWarning: A value is trying to be set on a copy of a DataFrame or Series through chained assignment using an inplace method.\n",
      "The behavior will change in pandas 3.0. This inplace method will never work because the intermediate object on which we are setting values always behaves as a copy.\n",
      "\n",
      "For example, when doing 'df[col].method(value, inplace=True)', try using 'df.method({col: value}, inplace=True)' or df[col] = df[col].method(value) instead, to perform the operation inplace on the original object.\n",
      "\n",
      "\n",
      "  Employees['LastName'].fillna('Faried', inplace=True)\n",
      "C:\\Users\\Cashi\\AppData\\Local\\Temp\\ipykernel_24348\\1953485002.py:2: FutureWarning: A value is trying to be set on a copy of a DataFrame or Series through chained assignment using an inplace method.\n",
      "The behavior will change in pandas 3.0. This inplace method will never work because the intermediate object on which we are setting values always behaves as a copy.\n",
      "\n",
      "For example, when doing 'df[col].method(value, inplace=True)', try using 'df.method({col: value}, inplace=True)' or df[col] = df[col].method(value) instead, to perform the operation inplace on the original object.\n",
      "\n",
      "\n",
      "  Employees['Title'].fillna('Sales Representative', inplace=True)\n",
      "C:\\Users\\Cashi\\AppData\\Local\\Temp\\ipykernel_24348\\1953485002.py:3: FutureWarning: A value is trying to be set on a copy of a DataFrame or Series through chained assignment using an inplace method.\n",
      "The behavior will change in pandas 3.0. This inplace method will never work because the intermediate object on which we are setting values always behaves as a copy.\n",
      "\n",
      "For example, when doing 'df[col].method(value, inplace=True)', try using 'df.method({col: value}, inplace=True)' or df[col] = df[col].method(value) instead, to perform the operation inplace on the original object.\n",
      "\n",
      "\n",
      "  Employees['TitleOfCourtesy'].fillna('Ms.', inplace=True)\n",
      "C:\\Users\\Cashi\\AppData\\Local\\Temp\\ipykernel_24348\\1953485002.py:4: FutureWarning: A value is trying to be set on a copy of a DataFrame or Series through chained assignment using an inplace method.\n",
      "The behavior will change in pandas 3.0. This inplace method will never work because the intermediate object on which we are setting values always behaves as a copy.\n",
      "\n",
      "For example, when doing 'df[col].method(value, inplace=True)', try using 'df.method({col: value}, inplace=True)' or df[col] = df[col].method(value) instead, to perform the operation inplace on the original object.\n",
      "\n",
      "\n",
      "  Employees['ReportsTo'].fillna(0, inplace=True)\n"
     ]
    }
   ],
   "source": [
    "Employees['LastName'].fillna('Faried', inplace=True)\n",
    "Employees['Title'].fillna('Sales Representative', inplace=True)\n",
    "Employees['TitleOfCourtesy'].fillna('Ms.', inplace=True)\n",
    "Employees['ReportsTo'].fillna(0, inplace=True)"
   ]
  },
  {
   "cell_type": "markdown",
   "metadata": {},
   "source": [
    "# cleaning of OrdersDetails sheet"
   ]
  },
  {
   "cell_type": "code",
   "execution_count": 29,
   "metadata": {},
   "outputs": [
    {
     "name": "stdout",
     "output_type": "stream",
     "text": [
      "Initial Specs on data: \n",
      "\n",
      "Data Shape:  (2155, 5)\n",
      "\n",
      "---------------------------------------------\n",
      "\n",
      "Category Columns ( 0 ) : \n",
      " []\n",
      "\n",
      "---------------------------------------------\n",
      "\n",
      "Numeric Columns ( 5 ) : \n",
      " ['OrderID', 'ProductID', 'UnitPrice', 'Quantity', 'Discount']\n",
      "\n",
      "---------------------------------------------\n"
     ]
    }
   ],
   "source": [
    "def data_Specs(OrdersDetails):\n",
    "    print(\"Initial Specs on data: \\n\")\n",
    "    print(\"Data Shape: \", OrdersDetails.shape)\n",
    "    print(\"\\n---------------------------------------------\\n\")\n",
    "    \n",
    "    s = (OrdersDetails.dtypes == 'object')\n",
    "    Cat_cols = list(s[s].index) \n",
    "    print(\"Category Columns (\",len(Cat_cols),\") : \\n\",Cat_cols)\n",
    "    print(\"\\n---------------------------------------------\\n\")   \n",
    "    \n",
    "    s = (OrdersDetails.dtypes != 'object')\n",
    "    Nums_cols = list(s[s].index) \n",
    "    print(\"Numeric Columns (\",len(Nums_cols),\") : \\n\",Nums_cols)\n",
    "    print(\"\\n---------------------------------------------\")   \n",
    "data_Specs(OrdersDetails)"
   ]
  },
  {
   "cell_type": "code",
   "execution_count": 30,
   "metadata": {},
   "outputs": [
    {
     "name": "stdout",
     "output_type": "stream",
     "text": [
      "<class 'pandas.core.frame.DataFrame'>\n",
      "RangeIndex: 2155 entries, 0 to 2154\n",
      "Data columns (total 5 columns):\n",
      " #   Column     Non-Null Count  Dtype  \n",
      "---  ------     --------------  -----  \n",
      " 0   OrderID    2155 non-null   int64  \n",
      " 1   ProductID  2155 non-null   int64  \n",
      " 2   UnitPrice  2155 non-null   float64\n",
      " 3   Quantity   2155 non-null   int64  \n",
      " 4   Discount   2155 non-null   float64\n",
      "dtypes: float64(2), int64(3)\n",
      "memory usage: 84.3 KB\n"
     ]
    }
   ],
   "source": [
    "OrdersDetails.info()"
   ]
  },
  {
   "cell_type": "code",
   "execution_count": 31,
   "metadata": {},
   "outputs": [
    {
     "data": {
      "text/html": [
       "<div>\n",
       "<style scoped>\n",
       "    .dataframe tbody tr th:only-of-type {\n",
       "        vertical-align: middle;\n",
       "    }\n",
       "\n",
       "    .dataframe tbody tr th {\n",
       "        vertical-align: top;\n",
       "    }\n",
       "\n",
       "    .dataframe thead th {\n",
       "        text-align: right;\n",
       "    }\n",
       "</style>\n",
       "<table border=\"1\" class=\"dataframe\">\n",
       "  <thead>\n",
       "    <tr style=\"text-align: right;\">\n",
       "      <th></th>\n",
       "      <th>OrderID</th>\n",
       "      <th>ProductID</th>\n",
       "      <th>UnitPrice</th>\n",
       "      <th>Quantity</th>\n",
       "      <th>Discount</th>\n",
       "    </tr>\n",
       "  </thead>\n",
       "  <tbody>\n",
       "    <tr>\n",
       "      <th>0</th>\n",
       "      <td>10248</td>\n",
       "      <td>11</td>\n",
       "      <td>14.0</td>\n",
       "      <td>12</td>\n",
       "      <td>0.0</td>\n",
       "    </tr>\n",
       "    <tr>\n",
       "      <th>1</th>\n",
       "      <td>10248</td>\n",
       "      <td>42</td>\n",
       "      <td>9.8</td>\n",
       "      <td>10</td>\n",
       "      <td>0.0</td>\n",
       "    </tr>\n",
       "    <tr>\n",
       "      <th>2</th>\n",
       "      <td>10248</td>\n",
       "      <td>72</td>\n",
       "      <td>34.8</td>\n",
       "      <td>5</td>\n",
       "      <td>0.0</td>\n",
       "    </tr>\n",
       "    <tr>\n",
       "      <th>3</th>\n",
       "      <td>10249</td>\n",
       "      <td>14</td>\n",
       "      <td>18.6</td>\n",
       "      <td>9</td>\n",
       "      <td>0.0</td>\n",
       "    </tr>\n",
       "    <tr>\n",
       "      <th>4</th>\n",
       "      <td>10249</td>\n",
       "      <td>51</td>\n",
       "      <td>42.4</td>\n",
       "      <td>40</td>\n",
       "      <td>0.0</td>\n",
       "    </tr>\n",
       "  </tbody>\n",
       "</table>\n",
       "</div>"
      ],
      "text/plain": [
       "   OrderID  ProductID  UnitPrice  Quantity  Discount\n",
       "0    10248         11       14.0        12       0.0\n",
       "1    10248         42        9.8        10       0.0\n",
       "2    10248         72       34.8         5       0.0\n",
       "3    10249         14       18.6         9       0.0\n",
       "4    10249         51       42.4        40       0.0"
      ]
     },
     "execution_count": 31,
     "metadata": {},
     "output_type": "execute_result"
    }
   ],
   "source": [
    "OrdersDetails.head()"
   ]
  },
  {
   "cell_type": "code",
   "execution_count": 32,
   "metadata": {},
   "outputs": [
    {
     "name": "stdout",
     "output_type": "stream",
     "text": [
      "Null Ratio per Column:\n"
     ]
    },
    {
     "data": {
      "text/plain": [
       "OrderID      0.0\n",
       "ProductID    0.0\n",
       "UnitPrice    0.0\n",
       "Quantity     0.0\n",
       "Discount     0.0\n",
       "dtype: float64"
      ]
     },
     "execution_count": 32,
     "metadata": {},
     "output_type": "execute_result"
    }
   ],
   "source": [
    "print(\"Null Ratio per Column:\")\n",
    "OrdersDetails.isnull().sum()/len(OrdersDetails)*100"
   ]
  },
  {
   "cell_type": "markdown",
   "metadata": {},
   "source": [
    "# cleaning of Orders sheet"
   ]
  },
  {
   "cell_type": "code",
   "execution_count": 33,
   "metadata": {},
   "outputs": [
    {
     "name": "stdout",
     "output_type": "stream",
     "text": [
      "Initial Specs on data: \n",
      "\n",
      "Data Shape:  (830, 14)\n",
      "\n",
      "---------------------------------------------\n",
      "\n",
      "Category Columns ( 8 ) : \n",
      " ['OrderID', 'Customer key ', 'ShipName', 'ShipAddress', 'ShipCity', 'ShipRegion', 'ShipPostalCode', 'ShipCountry']\n",
      "\n",
      "---------------------------------------------\n",
      "\n",
      "Numeric Columns ( 6 ) : \n",
      " ['EmployeeID', 'OrderDate', 'RequiredDate', 'ShippedDate', 'ShipVia', 'Freight']\n",
      "\n",
      "---------------------------------------------\n"
     ]
    }
   ],
   "source": [
    "def data_Specs(Orders):\n",
    "    print(\"Initial Specs on data: \\n\")\n",
    "    print(\"Data Shape: \", Orders.shape)\n",
    "    print(\"\\n---------------------------------------------\\n\")\n",
    "    \n",
    "    s = (Orders.dtypes == 'object')\n",
    "    Cat_cols = list(s[s].index) \n",
    "    print(\"Category Columns (\",len(Cat_cols),\") : \\n\",Cat_cols)\n",
    "    print(\"\\n---------------------------------------------\\n\")   \n",
    "    \n",
    "    s = (Orders.dtypes != 'object')\n",
    "    Nums_cols = list(s[s].index) \n",
    "    print(\"Numeric Columns (\",len(Nums_cols),\") : \\n\",Nums_cols)\n",
    "    print(\"\\n---------------------------------------------\")   \n",
    "data_Specs(Orders)"
   ]
  },
  {
   "cell_type": "code",
   "execution_count": 34,
   "metadata": {},
   "outputs": [
    {
     "name": "stdout",
     "output_type": "stream",
     "text": [
      "<class 'pandas.core.frame.DataFrame'>\n",
      "RangeIndex: 830 entries, 0 to 829\n",
      "Data columns (total 14 columns):\n",
      " #   Column          Non-Null Count  Dtype  \n",
      "---  ------          --------------  -----  \n",
      " 0   OrderID         829 non-null    object \n",
      " 1   Customer key    829 non-null    object \n",
      " 2   EmployeeID      830 non-null    int64  \n",
      " 3   OrderDate       830 non-null    int64  \n",
      " 4   RequiredDate    830 non-null    int64  \n",
      " 5   ShippedDate     809 non-null    float64\n",
      " 6   ShipVia         830 non-null    int64  \n",
      " 7   Freight         830 non-null    float64\n",
      " 8   ShipName        830 non-null    object \n",
      " 9   ShipAddress     830 non-null    object \n",
      " 10  ShipCity        830 non-null    object \n",
      " 11  ShipRegion      323 non-null    object \n",
      " 12  ShipPostalCode  811 non-null    object \n",
      " 13  ShipCountry     830 non-null    object \n",
      "dtypes: float64(2), int64(4), object(8)\n",
      "memory usage: 90.9+ KB\n"
     ]
    }
   ],
   "source": [
    "Orders.info()"
   ]
  },
  {
   "cell_type": "code",
   "execution_count": 35,
   "metadata": {},
   "outputs": [
    {
     "data": {
      "text/html": [
       "<div>\n",
       "<style scoped>\n",
       "    .dataframe tbody tr th:only-of-type {\n",
       "        vertical-align: middle;\n",
       "    }\n",
       "\n",
       "    .dataframe tbody tr th {\n",
       "        vertical-align: top;\n",
       "    }\n",
       "\n",
       "    .dataframe thead th {\n",
       "        text-align: right;\n",
       "    }\n",
       "</style>\n",
       "<table border=\"1\" class=\"dataframe\">\n",
       "  <thead>\n",
       "    <tr style=\"text-align: right;\">\n",
       "      <th></th>\n",
       "      <th>OrderID</th>\n",
       "      <th>Customer key</th>\n",
       "      <th>EmployeeID</th>\n",
       "      <th>OrderDate</th>\n",
       "      <th>RequiredDate</th>\n",
       "      <th>ShippedDate</th>\n",
       "      <th>ShipVia</th>\n",
       "      <th>Freight</th>\n",
       "      <th>ShipName</th>\n",
       "      <th>ShipAddress</th>\n",
       "      <th>ShipCity</th>\n",
       "      <th>ShipRegion</th>\n",
       "      <th>ShipPostalCode</th>\n",
       "      <th>ShipCountry</th>\n",
       "    </tr>\n",
       "  </thead>\n",
       "  <tbody>\n",
       "    <tr>\n",
       "      <th>0</th>\n",
       "      <td>10248</td>\n",
       "      <td>WILMK</td>\n",
       "      <td>5</td>\n",
       "      <td>35250</td>\n",
       "      <td>35278</td>\n",
       "      <td>35262.0</td>\n",
       "      <td>3</td>\n",
       "      <td>32.38</td>\n",
       "      <td>Vins et alcools Chevalier</td>\n",
       "      <td>59 rue de l'Abbaye</td>\n",
       "      <td>Reims</td>\n",
       "      <td>NaN</td>\n",
       "      <td>51100</td>\n",
       "      <td>France</td>\n",
       "    </tr>\n",
       "    <tr>\n",
       "      <th>1</th>\n",
       "      <td>10249</td>\n",
       "      <td>TRADH</td>\n",
       "      <td>6</td>\n",
       "      <td>35251</td>\n",
       "      <td>35293</td>\n",
       "      <td>35256.0</td>\n",
       "      <td>1</td>\n",
       "      <td>11.61</td>\n",
       "      <td>Toms Spezialitäten</td>\n",
       "      <td>Luisenstr. 48</td>\n",
       "      <td>Münster</td>\n",
       "      <td>NaN</td>\n",
       "      <td>44087</td>\n",
       "      <td>Germany</td>\n",
       "    </tr>\n",
       "    <tr>\n",
       "      <th>2</th>\n",
       "      <td>S</td>\n",
       "      <td>NaN</td>\n",
       "      <td>4</td>\n",
       "      <td>35254</td>\n",
       "      <td>35282</td>\n",
       "      <td>35258.0</td>\n",
       "      <td>2</td>\n",
       "      <td>65.83</td>\n",
       "      <td>Hanari Carnes</td>\n",
       "      <td>Rua do Paço, 67</td>\n",
       "      <td>Rio de Janeiro</td>\n",
       "      <td>RJ</td>\n",
       "      <td>05454-876</td>\n",
       "      <td>Brazil</td>\n",
       "    </tr>\n",
       "    <tr>\n",
       "      <th>3</th>\n",
       "      <td>10251</td>\n",
       "      <td>VICTE</td>\n",
       "      <td>3</td>\n",
       "      <td>35254</td>\n",
       "      <td>35282</td>\n",
       "      <td>35261.0</td>\n",
       "      <td>1</td>\n",
       "      <td>41.34</td>\n",
       "      <td>Victuailles en stock</td>\n",
       "      <td>2, rue du Commerce</td>\n",
       "      <td>Lyon</td>\n",
       "      <td>NaN</td>\n",
       "      <td>69004</td>\n",
       "      <td>France</td>\n",
       "    </tr>\n",
       "    <tr>\n",
       "      <th>4</th>\n",
       "      <td>B</td>\n",
       "      <td>SUPRD</td>\n",
       "      <td>4</td>\n",
       "      <td>35255</td>\n",
       "      <td>35283</td>\n",
       "      <td>35257.0</td>\n",
       "      <td>2</td>\n",
       "      <td>51.30</td>\n",
       "      <td>Suprêmes délices</td>\n",
       "      <td>Boulevard Tirou, 255</td>\n",
       "      <td>Charleroi</td>\n",
       "      <td>NaN</td>\n",
       "      <td>B-6000</td>\n",
       "      <td>Belgium</td>\n",
       "    </tr>\n",
       "  </tbody>\n",
       "</table>\n",
       "</div>"
      ],
      "text/plain": [
       "  OrderID Customer key   EmployeeID  OrderDate  RequiredDate  ShippedDate  \\\n",
       "0   10248         WILMK           5      35250         35278      35262.0   \n",
       "1   10249         TRADH           6      35251         35293      35256.0   \n",
       "2       S           NaN           4      35254         35282      35258.0   \n",
       "3   10251         VICTE           3      35254         35282      35261.0   \n",
       "4       B         SUPRD           4      35255         35283      35257.0   \n",
       "\n",
       "   ShipVia  Freight                   ShipName           ShipAddress  \\\n",
       "0        3    32.38  Vins et alcools Chevalier    59 rue de l'Abbaye   \n",
       "1        1    11.61         Toms Spezialitäten         Luisenstr. 48   \n",
       "2        2    65.83              Hanari Carnes       Rua do Paço, 67   \n",
       "3        1    41.34       Victuailles en stock    2, rue du Commerce   \n",
       "4        2    51.30           Suprêmes délices  Boulevard Tirou, 255   \n",
       "\n",
       "         ShipCity ShipRegion ShipPostalCode ShipCountry  \n",
       "0           Reims        NaN          51100      France  \n",
       "1         Münster        NaN          44087     Germany  \n",
       "2  Rio de Janeiro         RJ      05454-876      Brazil  \n",
       "3            Lyon        NaN          69004      France  \n",
       "4       Charleroi        NaN         B-6000     Belgium  "
      ]
     },
     "execution_count": 35,
     "metadata": {},
     "output_type": "execute_result"
    }
   ],
   "source": [
    "Orders.head()"
   ]
  },
  {
   "cell_type": "code",
   "execution_count": 43,
   "metadata": {},
   "outputs": [],
   "source": [
    "Orders.rename(columns={'Customer key': 'CustomerID'}, inplace=True)\n",
    "Orders.rename(columns={'ShipVia': 'ShipperID'}, inplace=True)"
   ]
  },
  {
   "cell_type": "code",
   "execution_count": 42,
   "metadata": {},
   "outputs": [],
   "source": [
    "Orders.columns = Orders.columns.str.strip() "
   ]
  },
  {
   "cell_type": "code",
   "execution_count": 41,
   "metadata": {},
   "outputs": [
    {
     "name": "stdout",
     "output_type": "stream",
     "text": [
      "Null Ratio per Column:\n"
     ]
    },
    {
     "data": {
      "text/plain": [
       "OrderID            0.120482\n",
       "CustomerID         0.120482\n",
       "EmployeeID         0.000000\n",
       "OrderDate          0.000000\n",
       "RequiredDate       0.000000\n",
       "ShippedDate        2.530120\n",
       "ShipperID          0.000000\n",
       "Freight            0.000000\n",
       "ShipName           0.000000\n",
       "ShipAddress        0.000000\n",
       "ShipCity           0.000000\n",
       "ShipRegion        61.084337\n",
       "ShipPostalCode     2.289157\n",
       "ShipCountry        0.000000\n",
       "dtype: float64"
      ]
     },
     "execution_count": 41,
     "metadata": {},
     "output_type": "execute_result"
    }
   ],
   "source": [
    "print(\"Null Ratio per Column:\")\n",
    "Orders.isnull().sum()/len(Orders)*100"
   ]
  },
  {
   "cell_type": "code",
   "execution_count": 44,
   "metadata": {},
   "outputs": [
    {
     "name": "stderr",
     "output_type": "stream",
     "text": [
      "C:\\Users\\Cashi\\AppData\\Local\\Temp\\ipykernel_24348\\4177629769.py:1: FutureWarning: A value is trying to be set on a copy of a DataFrame or Series through chained assignment using an inplace method.\n",
      "The behavior will change in pandas 3.0. This inplace method will never work because the intermediate object on which we are setting values always behaves as a copy.\n",
      "\n",
      "For example, when doing 'df[col].method(value, inplace=True)', try using 'df.method({col: value}, inplace=True)' or df[col] = df[col].method(value) instead, to perform the operation inplace on the original object.\n",
      "\n",
      "\n",
      "  Orders['OrderID'].replace( 'S', '10250', inplace=True)\n",
      "C:\\Users\\Cashi\\AppData\\Local\\Temp\\ipykernel_24348\\4177629769.py:2: FutureWarning: A value is trying to be set on a copy of a DataFrame or Series through chained assignment using an inplace method.\n",
      "The behavior will change in pandas 3.0. This inplace method will never work because the intermediate object on which we are setting values always behaves as a copy.\n",
      "\n",
      "For example, when doing 'df[col].method(value, inplace=True)', try using 'df.method({col: value}, inplace=True)' or df[col] = df[col].method(value) instead, to perform the operation inplace on the original object.\n",
      "\n",
      "\n",
      "  Orders['OrderID'].replace( 'B', '10252', inplace=True)\n",
      "C:\\Users\\Cashi\\AppData\\Local\\Temp\\ipykernel_24348\\4177629769.py:3: FutureWarning: A value is trying to be set on a copy of a DataFrame or Series through chained assignment using an inplace method.\n",
      "The behavior will change in pandas 3.0. This inplace method will never work because the intermediate object on which we are setting values always behaves as a copy.\n",
      "\n",
      "For example, when doing 'df[col].method(value, inplace=True)', try using 'df.method({col: value}, inplace=True)' or df[col] = df[col].method(value) instead, to perform the operation inplace on the original object.\n",
      "\n",
      "\n",
      "  Orders['OrderID'].replace( 1 , '10258', inplace=True)\n"
     ]
    }
   ],
   "source": [
    "Orders['OrderID'].replace( 'S', '10250', inplace=True)\n",
    "Orders['OrderID'].replace( 'B', '10252', inplace=True)\n",
    "Orders['OrderID'].replace( 1 , '10258', inplace=True)"
   ]
  },
  {
   "cell_type": "code",
   "execution_count": 46,
   "metadata": {},
   "outputs": [
    {
     "name": "stderr",
     "output_type": "stream",
     "text": [
      "C:\\Users\\Cashi\\AppData\\Local\\Temp\\ipykernel_24348\\1122450617.py:2: FutureWarning: A value is trying to be set on a copy of a DataFrame or Series through chained assignment using an inplace method.\n",
      "The behavior will change in pandas 3.0. This inplace method will never work because the intermediate object on which we are setting values always behaves as a copy.\n",
      "\n",
      "For example, when doing 'df[col].method(value, inplace=True)', try using 'df.method({col: value}, inplace=True)' or df[col] = df[col].method(value) instead, to perform the operation inplace on the original object.\n",
      "\n",
      "\n",
      "  Orders['CustomerID'].fillna('HHHHHH', inplace=True)\n"
     ]
    }
   ],
   "source": [
    "Orders['OrderID'].fillna('10255', inplace=True)\n",
    "Orders['CustomerID'].fillna('HHHHHH', inplace=True)"
   ]
  },
  {
   "cell_type": "code",
   "execution_count": 47,
   "metadata": {},
   "outputs": [],
   "source": [
    "Orders['OrderDate'] = Orders['OrderDate'].apply(convert_to_date)\n",
    "Orders['ShippedDate'] = Orders['ShippedDate'].apply(convert_to_date)\n",
    "Orders['RequiredDate'] = Orders['RequiredDate'].apply(convert_to_date)"
   ]
  },
  {
   "cell_type": "code",
   "execution_count": 48,
   "metadata": {},
   "outputs": [],
   "source": [
    "Orders['OrderID'] = Orders['OrderID'].astype(int)\n",
    "Orders['EmployeeID'] = Orders['EmployeeID'].astype(int)"
   ]
  },
  {
   "cell_type": "code",
   "execution_count": 49,
   "metadata": {},
   "outputs": [],
   "source": [
    "Orders = Orders.drop(columns=['ShipRegion'])  "
   ]
  },
  {
   "cell_type": "markdown",
   "metadata": {},
   "source": [
    "# cleaning of Product sheet"
   ]
  },
  {
   "cell_type": "code",
   "execution_count": 52,
   "metadata": {},
   "outputs": [
    {
     "name": "stdout",
     "output_type": "stream",
     "text": [
      "Initial Specs on data: \n",
      "\n",
      "Data Shape:  (86, 10)\n",
      "\n",
      "---------------------------------------------\n",
      "\n",
      "Category Columns ( 3 ) : \n",
      " ['ProductID', 'ProductName', 'QuantityPerUnit']\n",
      "\n",
      "---------------------------------------------\n",
      "\n",
      "Numeric Columns ( 7 ) : \n",
      " ['SupplierID', 'CategoryID', 'UnitPrice', 'UnitsInStock', 'UnitsOnOrder', 'ReorderLevel', 'Discontinued']\n",
      "\n",
      "---------------------------------------------\n"
     ]
    }
   ],
   "source": [
    "def data_Specs(Product):\n",
    "    print(\"Initial Specs on data: \\n\")\n",
    "    print(\"Data Shape: \", Product.shape)\n",
    "    print(\"\\n---------------------------------------------\\n\")\n",
    "    \n",
    "    s = (Product.dtypes == 'object')\n",
    "    Cat_cols = list(s[s].index) \n",
    "    print(\"Category Columns (\",len(Cat_cols),\") : \\n\",Cat_cols)\n",
    "    print(\"\\n---------------------------------------------\\n\")   \n",
    "    \n",
    "    s = (Product.dtypes != 'object')\n",
    "    Nums_cols = list(s[s].index) \n",
    "    print(\"Numeric Columns (\",len(Nums_cols),\") : \\n\",Nums_cols)\n",
    "    print(\"\\n---------------------------------------------\")   \n",
    "data_Specs(Product)"
   ]
  },
  {
   "cell_type": "code",
   "execution_count": 53,
   "metadata": {},
   "outputs": [
    {
     "name": "stdout",
     "output_type": "stream",
     "text": [
      "<class 'pandas.core.frame.DataFrame'>\n",
      "RangeIndex: 86 entries, 0 to 85\n",
      "Data columns (total 10 columns):\n",
      " #   Column           Non-Null Count  Dtype  \n",
      "---  ------           --------------  -----  \n",
      " 0   ProductID        85 non-null     object \n",
      " 1   ProductName      86 non-null     object \n",
      " 2   SupplierID       86 non-null     int64  \n",
      " 3   CategoryID       86 non-null     int64  \n",
      " 4   QuantityPerUnit  86 non-null     object \n",
      " 5   UnitPrice        86 non-null     float64\n",
      " 6   UnitsInStock     86 non-null     int64  \n",
      " 7   UnitsOnOrder     86 non-null     int64  \n",
      " 8   ReorderLevel     86 non-null     int64  \n",
      " 9   Discontinued     86 non-null     bool   \n",
      "dtypes: bool(1), float64(1), int64(5), object(3)\n",
      "memory usage: 6.3+ KB\n"
     ]
    }
   ],
   "source": [
    "Product.info()"
   ]
  },
  {
   "cell_type": "code",
   "execution_count": 54,
   "metadata": {},
   "outputs": [
    {
     "data": {
      "text/html": [
       "<div>\n",
       "<style scoped>\n",
       "    .dataframe tbody tr th:only-of-type {\n",
       "        vertical-align: middle;\n",
       "    }\n",
       "\n",
       "    .dataframe tbody tr th {\n",
       "        vertical-align: top;\n",
       "    }\n",
       "\n",
       "    .dataframe thead th {\n",
       "        text-align: right;\n",
       "    }\n",
       "</style>\n",
       "<table border=\"1\" class=\"dataframe\">\n",
       "  <thead>\n",
       "    <tr style=\"text-align: right;\">\n",
       "      <th></th>\n",
       "      <th>ProductID</th>\n",
       "      <th>ProductName</th>\n",
       "      <th>SupplierID</th>\n",
       "      <th>CategoryID</th>\n",
       "      <th>QuantityPerUnit</th>\n",
       "      <th>UnitPrice</th>\n",
       "      <th>UnitsInStock</th>\n",
       "      <th>UnitsOnOrder</th>\n",
       "      <th>ReorderLevel</th>\n",
       "      <th>Discontinued</th>\n",
       "    </tr>\n",
       "  </thead>\n",
       "  <tbody>\n",
       "    <tr>\n",
       "      <th>0</th>\n",
       "      <td>1</td>\n",
       "      <td>Chai</td>\n",
       "      <td>1</td>\n",
       "      <td>1</td>\n",
       "      <td>10 boxes x 20 bags</td>\n",
       "      <td>18.00</td>\n",
       "      <td>39</td>\n",
       "      <td>0</td>\n",
       "      <td>10</td>\n",
       "      <td>False</td>\n",
       "    </tr>\n",
       "    <tr>\n",
       "      <th>1</th>\n",
       "      <td>2</td>\n",
       "      <td>Chang</td>\n",
       "      <td>1</td>\n",
       "      <td>1</td>\n",
       "      <td>24 - 12 oz bottles</td>\n",
       "      <td>19.00</td>\n",
       "      <td>17</td>\n",
       "      <td>40</td>\n",
       "      <td>25</td>\n",
       "      <td>False</td>\n",
       "    </tr>\n",
       "    <tr>\n",
       "      <th>2</th>\n",
       "      <td>NaN</td>\n",
       "      <td>Aniseed Syrup</td>\n",
       "      <td>1</td>\n",
       "      <td>2</td>\n",
       "      <td>12 - 550 ml bottles</td>\n",
       "      <td>10.00</td>\n",
       "      <td>13</td>\n",
       "      <td>70</td>\n",
       "      <td>25</td>\n",
       "      <td>False</td>\n",
       "    </tr>\n",
       "    <tr>\n",
       "      <th>3</th>\n",
       "      <td>4</td>\n",
       "      <td>Chef Anton's Cajun Seasoning</td>\n",
       "      <td>2</td>\n",
       "      <td>2</td>\n",
       "      <td>48 - 6 oz jars</td>\n",
       "      <td>22.00</td>\n",
       "      <td>53</td>\n",
       "      <td>0</td>\n",
       "      <td>0</td>\n",
       "      <td>False</td>\n",
       "    </tr>\n",
       "    <tr>\n",
       "      <th>4</th>\n",
       "      <td>SSS</td>\n",
       "      <td>5</td>\n",
       "      <td>2</td>\n",
       "      <td>2</td>\n",
       "      <td>36 boxes</td>\n",
       "      <td>21.35</td>\n",
       "      <td>0</td>\n",
       "      <td>0</td>\n",
       "      <td>0</td>\n",
       "      <td>True</td>\n",
       "    </tr>\n",
       "  </tbody>\n",
       "</table>\n",
       "</div>"
      ],
      "text/plain": [
       "  ProductID                   ProductName  SupplierID  CategoryID  \\\n",
       "0         1                          Chai           1           1   \n",
       "1         2                         Chang           1           1   \n",
       "2       NaN                 Aniseed Syrup           1           2   \n",
       "3         4  Chef Anton's Cajun Seasoning           2           2   \n",
       "4       SSS                             5           2           2   \n",
       "\n",
       "       QuantityPerUnit  UnitPrice  UnitsInStock  UnitsOnOrder  ReorderLevel  \\\n",
       "0   10 boxes x 20 bags      18.00            39             0            10   \n",
       "1   24 - 12 oz bottles      19.00            17            40            25   \n",
       "2  12 - 550 ml bottles      10.00            13            70            25   \n",
       "3       48 - 6 oz jars      22.00            53             0             0   \n",
       "4             36 boxes      21.35             0             0             0   \n",
       "\n",
       "   Discontinued  \n",
       "0         False  \n",
       "1         False  \n",
       "2         False  \n",
       "3         False  \n",
       "4          True  "
      ]
     },
     "execution_count": 54,
     "metadata": {},
     "output_type": "execute_result"
    }
   ],
   "source": [
    "Product.head()"
   ]
  },
  {
   "cell_type": "code",
   "execution_count": 55,
   "metadata": {},
   "outputs": [
    {
     "name": "stdout",
     "output_type": "stream",
     "text": [
      "Null Ratio per Column:\n"
     ]
    },
    {
     "data": {
      "text/plain": [
       "ProductID          1.162791\n",
       "ProductName        0.000000\n",
       "SupplierID         0.000000\n",
       "CategoryID         0.000000\n",
       "QuantityPerUnit    0.000000\n",
       "UnitPrice          0.000000\n",
       "UnitsInStock       0.000000\n",
       "UnitsOnOrder       0.000000\n",
       "ReorderLevel       0.000000\n",
       "Discontinued       0.000000\n",
       "dtype: float64"
      ]
     },
     "execution_count": 55,
     "metadata": {},
     "output_type": "execute_result"
    }
   ],
   "source": [
    "print(\"Null Ratio per Column:\")\n",
    "Product.isnull().sum()/len(Product)*100"
   ]
  },
  {
   "cell_type": "code",
   "execution_count": 56,
   "metadata": {},
   "outputs": [],
   "source": [
    "Product=Product.drop(columns=['UnitsOnOrder'])\n",
    "Product=Product.drop(columns=['ReorderLevel'])"
   ]
  },
  {
   "cell_type": "code",
   "execution_count": 57,
   "metadata": {},
   "outputs": [
    {
     "name": "stderr",
     "output_type": "stream",
     "text": [
      "C:\\Users\\Cashi\\AppData\\Local\\Temp\\ipykernel_24348\\2134945947.py:1: FutureWarning: A value is trying to be set on a copy of a DataFrame or Series through chained assignment using an inplace method.\n",
      "The behavior will change in pandas 3.0. This inplace method will never work because the intermediate object on which we are setting values always behaves as a copy.\n",
      "\n",
      "For example, when doing 'df[col].method(value, inplace=True)', try using 'df.method({col: value}, inplace=True)' or df[col] = df[col].method(value) instead, to perform the operation inplace on the original object.\n",
      "\n",
      "\n",
      "  Product['ProductID'].replace( 'SSS', '5', inplace=True)\n",
      "C:\\Users\\Cashi\\AppData\\Local\\Temp\\ipykernel_24348\\2134945947.py:2: FutureWarning: A value is trying to be set on a copy of a DataFrame or Series through chained assignment using an inplace method.\n",
      "The behavior will change in pandas 3.0. This inplace method will never work because the intermediate object on which we are setting values always behaves as a copy.\n",
      "\n",
      "For example, when doing 'df[col].method(value, inplace=True)', try using 'df.method({col: value}, inplace=True)' or df[col] = df[col].method(value) instead, to perform the operation inplace on the original object.\n",
      "\n",
      "\n",
      "  Product['ProductID'].fillna( 3 , inplace=True)\n"
     ]
    }
   ],
   "source": [
    "Product['ProductID'].replace( 'SSS', '5', inplace=True)\n",
    "Product['ProductID'].fillna( 3 , inplace=True)"
   ]
  },
  {
   "cell_type": "code",
   "execution_count": 58,
   "metadata": {},
   "outputs": [
    {
     "name": "stderr",
     "output_type": "stream",
     "text": [
      "C:\\Users\\Cashi\\AppData\\Local\\Temp\\ipykernel_24348\\3564938025.py:1: FutureWarning: A value is trying to be set on a copy of a DataFrame or Series through chained assignment using an inplace method.\n",
      "The behavior will change in pandas 3.0. This inplace method will never work because the intermediate object on which we are setting values always behaves as a copy.\n",
      "\n",
      "For example, when doing 'df[col].method(value, inplace=True)', try using 'df.method({col: value}, inplace=True)' or df[col] = df[col].method(value) instead, to perform the operation inplace on the original object.\n",
      "\n",
      "\n",
      "  Product['ProductName'].replace( 5 , 'suchi', inplace=True)\n"
     ]
    }
   ],
   "source": [
    "Product['ProductName'].replace( 5 , 'suchi', inplace=True)"
   ]
  },
  {
   "cell_type": "code",
   "execution_count": 59,
   "metadata": {},
   "outputs": [],
   "source": [
    "Product['ProductID'] = Product['ProductID'].astype(int)"
   ]
  },
  {
   "cell_type": "markdown",
   "metadata": {},
   "source": [
    "# cleaning of Shippers sheet"
   ]
  },
  {
   "cell_type": "code",
   "execution_count": 60,
   "metadata": {},
   "outputs": [
    {
     "name": "stdout",
     "output_type": "stream",
     "text": [
      "Initial Specs on data: \n",
      "\n",
      "Data Shape:  (3, 3)\n",
      "\n",
      "---------------------------------------------\n",
      "\n",
      "Category Columns ( 2 ) : \n",
      " ['CompanyName', 'Phone']\n",
      "\n",
      "---------------------------------------------\n",
      "\n",
      "Numeric Columns ( 1 ) : \n",
      " ['ShipperID']\n",
      "\n",
      "---------------------------------------------\n"
     ]
    }
   ],
   "source": [
    "def data_Specs(Shippers):\n",
    "    print(\"Initial Specs on data: \\n\")\n",
    "    print(\"Data Shape: \", Shippers.shape)\n",
    "    print(\"\\n---------------------------------------------\\n\")\n",
    "    \n",
    "    s = (Shippers.dtypes == 'object')\n",
    "    Cat_cols = list(s[s].index) \n",
    "    print(\"Category Columns (\",len(Cat_cols),\") : \\n\",Cat_cols)\n",
    "    print(\"\\n---------------------------------------------\\n\")   \n",
    "    \n",
    "    s = (Shippers.dtypes != 'object')\n",
    "    Nums_cols = list(s[s].index) \n",
    "    print(\"Numeric Columns (\",len(Nums_cols),\") : \\n\",Nums_cols)\n",
    "    print(\"\\n---------------------------------------------\")   \n",
    "data_Specs(Shippers)"
   ]
  },
  {
   "cell_type": "code",
   "execution_count": 61,
   "metadata": {},
   "outputs": [
    {
     "name": "stdout",
     "output_type": "stream",
     "text": [
      "<class 'pandas.core.frame.DataFrame'>\n",
      "RangeIndex: 3 entries, 0 to 2\n",
      "Data columns (total 3 columns):\n",
      " #   Column       Non-Null Count  Dtype \n",
      "---  ------       --------------  ----- \n",
      " 0   ShipperID    3 non-null      int64 \n",
      " 1   CompanyName  3 non-null      object\n",
      " 2   Phone        3 non-null      object\n",
      "dtypes: int64(1), object(2)\n",
      "memory usage: 204.0+ bytes\n"
     ]
    }
   ],
   "source": [
    "Shippers.info()"
   ]
  },
  {
   "cell_type": "code",
   "execution_count": 62,
   "metadata": {},
   "outputs": [
    {
     "data": {
      "text/html": [
       "<div>\n",
       "<style scoped>\n",
       "    .dataframe tbody tr th:only-of-type {\n",
       "        vertical-align: middle;\n",
       "    }\n",
       "\n",
       "    .dataframe tbody tr th {\n",
       "        vertical-align: top;\n",
       "    }\n",
       "\n",
       "    .dataframe thead th {\n",
       "        text-align: right;\n",
       "    }\n",
       "</style>\n",
       "<table border=\"1\" class=\"dataframe\">\n",
       "  <thead>\n",
       "    <tr style=\"text-align: right;\">\n",
       "      <th></th>\n",
       "      <th>ShipperID</th>\n",
       "      <th>CompanyName</th>\n",
       "      <th>Phone</th>\n",
       "    </tr>\n",
       "  </thead>\n",
       "  <tbody>\n",
       "    <tr>\n",
       "      <th>0</th>\n",
       "      <td>1</td>\n",
       "      <td>Speedy Express</td>\n",
       "      <td>(503) 555-9831</td>\n",
       "    </tr>\n",
       "    <tr>\n",
       "      <th>1</th>\n",
       "      <td>2</td>\n",
       "      <td>United Package</td>\n",
       "      <td>(503) 555-3199</td>\n",
       "    </tr>\n",
       "    <tr>\n",
       "      <th>2</th>\n",
       "      <td>3</td>\n",
       "      <td>Federal Shipping</td>\n",
       "      <td>(503) 555-9931</td>\n",
       "    </tr>\n",
       "  </tbody>\n",
       "</table>\n",
       "</div>"
      ],
      "text/plain": [
       "   ShipperID       CompanyName           Phone\n",
       "0          1    Speedy Express  (503) 555-9831\n",
       "1          2    United Package  (503) 555-3199\n",
       "2          3  Federal Shipping  (503) 555-9931"
      ]
     },
     "execution_count": 62,
     "metadata": {},
     "output_type": "execute_result"
    }
   ],
   "source": [
    "Shippers.head()"
   ]
  },
  {
   "cell_type": "code",
   "execution_count": 63,
   "metadata": {},
   "outputs": [
    {
     "data": {
      "text/plain": [
       "ShipperID      0.0\n",
       "CompanyName    0.0\n",
       "Phone          0.0\n",
       "dtype: float64"
      ]
     },
     "execution_count": 63,
     "metadata": {},
     "output_type": "execute_result"
    }
   ],
   "source": [
    "Shippers.isnull().sum()/len(Shippers)*100"
   ]
  },
  {
   "cell_type": "markdown",
   "metadata": {},
   "source": [
    "# cleaning of Suppliers sheet"
   ]
  },
  {
   "cell_type": "code",
   "execution_count": 64,
   "metadata": {},
   "outputs": [
    {
     "name": "stdout",
     "output_type": "stream",
     "text": [
      "Initial Specs on data: \n",
      "\n",
      "Data Shape:  (29, 12)\n",
      "\n",
      "---------------------------------------------\n",
      "\n",
      "Category Columns ( 11 ) : \n",
      " ['CompanyName', 'ContactName', 'ContactTitle', 'Address', 'City', 'Region', 'PostalCode', 'Country', 'Phone', 'Fax', 'HomePage']\n",
      "\n",
      "---------------------------------------------\n",
      "\n",
      "Numeric Columns ( 1 ) : \n",
      " ['SupplierID']\n",
      "\n",
      "---------------------------------------------\n"
     ]
    }
   ],
   "source": [
    "def data_Specs(Suppliers):\n",
    "    print(\"Initial Specs on data: \\n\")\n",
    "    print(\"Data Shape: \", Suppliers.shape)\n",
    "    print(\"\\n---------------------------------------------\\n\")\n",
    "    \n",
    "    s = (Suppliers.dtypes == 'object')\n",
    "    Cat_cols = list(s[s].index) \n",
    "    print(\"Category Columns (\",len(Cat_cols),\") : \\n\",Cat_cols)\n",
    "    print(\"\\n---------------------------------------------\\n\")   \n",
    "    \n",
    "    s = (Suppliers.dtypes != 'object')\n",
    "    Nums_cols = list(s[s].index) \n",
    "    print(\"Numeric Columns (\",len(Nums_cols),\") : \\n\",Nums_cols)\n",
    "    print(\"\\n---------------------------------------------\")   \n",
    "data_Specs(Suppliers)"
   ]
  },
  {
   "cell_type": "code",
   "execution_count": 65,
   "metadata": {},
   "outputs": [
    {
     "name": "stdout",
     "output_type": "stream",
     "text": [
      "<class 'pandas.core.frame.DataFrame'>\n",
      "RangeIndex: 29 entries, 0 to 28\n",
      "Data columns (total 12 columns):\n",
      " #   Column        Non-Null Count  Dtype \n",
      "---  ------        --------------  ----- \n",
      " 0   SupplierID    29 non-null     int64 \n",
      " 1   CompanyName   28 non-null     object\n",
      " 2   ContactName   29 non-null     object\n",
      " 3   ContactTitle  29 non-null     object\n",
      " 4   Address       29 non-null     object\n",
      " 5   City          29 non-null     object\n",
      " 6   Region        9 non-null      object\n",
      " 7   PostalCode    29 non-null     object\n",
      " 8   Country       29 non-null     object\n",
      " 9   Phone         29 non-null     object\n",
      " 10  Fax           13 non-null     object\n",
      " 11  HomePage      3 non-null      object\n",
      "dtypes: int64(1), object(11)\n",
      "memory usage: 2.8+ KB\n"
     ]
    }
   ],
   "source": [
    "Suppliers.info()"
   ]
  },
  {
   "cell_type": "code",
   "execution_count": 66,
   "metadata": {},
   "outputs": [
    {
     "data": {
      "text/html": [
       "<div>\n",
       "<style scoped>\n",
       "    .dataframe tbody tr th:only-of-type {\n",
       "        vertical-align: middle;\n",
       "    }\n",
       "\n",
       "    .dataframe tbody tr th {\n",
       "        vertical-align: top;\n",
       "    }\n",
       "\n",
       "    .dataframe thead th {\n",
       "        text-align: right;\n",
       "    }\n",
       "</style>\n",
       "<table border=\"1\" class=\"dataframe\">\n",
       "  <thead>\n",
       "    <tr style=\"text-align: right;\">\n",
       "      <th></th>\n",
       "      <th>SupplierID</th>\n",
       "      <th>CompanyName</th>\n",
       "      <th>ContactName</th>\n",
       "      <th>ContactTitle</th>\n",
       "      <th>Address</th>\n",
       "      <th>City</th>\n",
       "      <th>Region</th>\n",
       "      <th>PostalCode</th>\n",
       "      <th>Country</th>\n",
       "      <th>Phone</th>\n",
       "      <th>Fax</th>\n",
       "      <th>HomePage</th>\n",
       "    </tr>\n",
       "  </thead>\n",
       "  <tbody>\n",
       "    <tr>\n",
       "      <th>0</th>\n",
       "      <td>1</td>\n",
       "      <td>Exotic Liquids</td>\n",
       "      <td>Charlotte Cooper</td>\n",
       "      <td>Purchasing Manager</td>\n",
       "      <td>49 Gilbert St.</td>\n",
       "      <td>London</td>\n",
       "      <td>NaN</td>\n",
       "      <td>EC1 4SD</td>\n",
       "      <td>UK</td>\n",
       "      <td>(171) 555-2222</td>\n",
       "      <td>NaN</td>\n",
       "      <td>NaN</td>\n",
       "    </tr>\n",
       "    <tr>\n",
       "      <th>1</th>\n",
       "      <td>2</td>\n",
       "      <td>NaN</td>\n",
       "      <td>Shelley Burke</td>\n",
       "      <td>Order Administrator</td>\n",
       "      <td>P.O. Box 78934</td>\n",
       "      <td>New Orleans</td>\n",
       "      <td>LA</td>\n",
       "      <td>70117</td>\n",
       "      <td>USA</td>\n",
       "      <td>(100) 555-4822</td>\n",
       "      <td>NaN</td>\n",
       "      <td>NaN</td>\n",
       "    </tr>\n",
       "    <tr>\n",
       "      <th>2</th>\n",
       "      <td>3</td>\n",
       "      <td>Grandma Kelly's Homestead</td>\n",
       "      <td>Regina Murphy</td>\n",
       "      <td>Sales Representative</td>\n",
       "      <td>707 Oxford Rd.</td>\n",
       "      <td>Ann Arbor</td>\n",
       "      <td>MI</td>\n",
       "      <td>48104</td>\n",
       "      <td>USA</td>\n",
       "      <td>(313) 555-5735</td>\n",
       "      <td>(313) 555-3349</td>\n",
       "      <td>NaN</td>\n",
       "    </tr>\n",
       "    <tr>\n",
       "      <th>3</th>\n",
       "      <td>4</td>\n",
       "      <td>Tokyo Traders</td>\n",
       "      <td>Yoshi Nagase</td>\n",
       "      <td>Marketing Manager</td>\n",
       "      <td>9-8 Sekimai\\r\\nMusashino-shi</td>\n",
       "      <td>Tokyo</td>\n",
       "      <td>NaN</td>\n",
       "      <td>100</td>\n",
       "      <td>Japan</td>\n",
       "      <td>(03) 3555-5011</td>\n",
       "      <td>NaN</td>\n",
       "      <td>NaN</td>\n",
       "    </tr>\n",
       "    <tr>\n",
       "      <th>4</th>\n",
       "      <td>5</td>\n",
       "      <td>Cooperativa de Quesos 'Las Cabras'</td>\n",
       "      <td>Antonio del Valle Saavedra</td>\n",
       "      <td>Export Administrator</td>\n",
       "      <td>Calle del Rosal 4</td>\n",
       "      <td>Oviedo</td>\n",
       "      <td>Asturias</td>\n",
       "      <td>33007</td>\n",
       "      <td>Spain</td>\n",
       "      <td>(98) 598 76 54</td>\n",
       "      <td>NaN</td>\n",
       "      <td>NaN</td>\n",
       "    </tr>\n",
       "  </tbody>\n",
       "</table>\n",
       "</div>"
      ],
      "text/plain": [
       "   SupplierID                         CompanyName                 ContactName  \\\n",
       "0           1                      Exotic Liquids            Charlotte Cooper   \n",
       "1           2                                 NaN               Shelley Burke   \n",
       "2           3           Grandma Kelly's Homestead               Regina Murphy   \n",
       "3           4                       Tokyo Traders                Yoshi Nagase   \n",
       "4           5  Cooperativa de Quesos 'Las Cabras'  Antonio del Valle Saavedra   \n",
       "\n",
       "           ContactTitle                       Address         City    Region  \\\n",
       "0    Purchasing Manager                49 Gilbert St.       London       NaN   \n",
       "1   Order Administrator                P.O. Box 78934  New Orleans        LA   \n",
       "2  Sales Representative                707 Oxford Rd.    Ann Arbor        MI   \n",
       "3     Marketing Manager  9-8 Sekimai\\r\\nMusashino-shi        Tokyo       NaN   \n",
       "4  Export Administrator             Calle del Rosal 4       Oviedo  Asturias   \n",
       "\n",
       "  PostalCode Country           Phone             Fax HomePage  \n",
       "0    EC1 4SD      UK  (171) 555-2222             NaN      NaN  \n",
       "1      70117     USA  (100) 555-4822             NaN      NaN  \n",
       "2      48104     USA  (313) 555-5735  (313) 555-3349      NaN  \n",
       "3        100   Japan  (03) 3555-5011             NaN      NaN  \n",
       "4      33007   Spain  (98) 598 76 54             NaN      NaN  "
      ]
     },
     "execution_count": 66,
     "metadata": {},
     "output_type": "execute_result"
    }
   ],
   "source": [
    "Suppliers.head()"
   ]
  },
  {
   "cell_type": "code",
   "execution_count": 67,
   "metadata": {},
   "outputs": [],
   "source": [
    "Suppliers.rename(columns={'CompanyName' : 'SuppliersCompanyName'} , inplace=True)\n",
    "Suppliers.rename(columns={'Country' : 'SuppliersCountry'} , inplace=True)\n",
    "Suppliers.rename(columns={'City' : 'SuppliersCity'} , inplace=True)"
   ]
  },
  {
   "cell_type": "code",
   "execution_count": 68,
   "metadata": {},
   "outputs": [
    {
     "data": {
      "text/plain": [
       "SupplierID               0.000000\n",
       "SuppliersCompanyName     3.448276\n",
       "ContactName              0.000000\n",
       "ContactTitle             0.000000\n",
       "Address                  0.000000\n",
       "SuppliersCity            0.000000\n",
       "Region                  68.965517\n",
       "PostalCode               0.000000\n",
       "SuppliersCountry         0.000000\n",
       "Phone                    0.000000\n",
       "Fax                     55.172414\n",
       "HomePage                89.655172\n",
       "dtype: float64"
      ]
     },
     "execution_count": 68,
     "metadata": {},
     "output_type": "execute_result"
    }
   ],
   "source": [
    "Suppliers.isnull().sum()/len(Suppliers)*100"
   ]
  },
  {
   "cell_type": "code",
   "execution_count": 69,
   "metadata": {},
   "outputs": [
    {
     "name": "stderr",
     "output_type": "stream",
     "text": [
      "C:\\Users\\Cashi\\AppData\\Local\\Temp\\ipykernel_24348\\365524.py:1: FutureWarning: A value is trying to be set on a copy of a DataFrame or Series through chained assignment using an inplace method.\n",
      "The behavior will change in pandas 3.0. This inplace method will never work because the intermediate object on which we are setting values always behaves as a copy.\n",
      "\n",
      "For example, when doing 'df[col].method(value, inplace=True)', try using 'df.method({col: value}, inplace=True)' or df[col] = df[col].method(value) instead, to perform the operation inplace on the original object.\n",
      "\n",
      "\n",
      "  Suppliers['SuppliersCompanyName'].fillna('EverGreen', inplace=True)\n"
     ]
    }
   ],
   "source": [
    "Suppliers['SuppliersCompanyName'].fillna('EverGreen', inplace=True)"
   ]
  },
  {
   "cell_type": "code",
   "execution_count": 70,
   "metadata": {},
   "outputs": [],
   "source": [
    "Suppliers = Suppliers.drop(columns=['HomePage'])  "
   ]
  },
  {
   "cell_type": "markdown",
   "metadata": {},
   "source": [
    "# Save the cleaned data to a CSV file"
   ]
  },
  {
   "cell_type": "code",
   "execution_count": 71,
   "metadata": {},
   "outputs": [],
   "source": [
    "Customers.to_csv('Customers.csv', index=False)\n",
    "Categories.to_csv('Categories.csv', index=False)\n",
    "Employees.to_csv('Employees.csv', index=False)\n",
    "OrdersDetails.to_csv('OrdersDetails.csv', index=False)\n",
    "Orders.to_csv('Orders.csv', index=False)\n",
    "Product.to_csv('Product.csv', index=False)\n",
    "Shippers.to_csv('Shippers.csv', index=False)\n",
    "Suppliers.to_csv('Suppliers.csv', index=False)"
   ]
  }
 ],
 "metadata": {
  "kernelspec": {
   "display_name": "Python 3",
   "language": "python",
   "name": "python3"
  },
  "language_info": {
   "codemirror_mode": {
    "name": "ipython",
    "version": 3
   },
   "file_extension": ".py",
   "mimetype": "text/x-python",
   "name": "python",
   "nbconvert_exporter": "python",
   "pygments_lexer": "ipython3",
   "version": "3.12.7"
  }
 },
 "nbformat": 4,
 "nbformat_minor": 2
}
